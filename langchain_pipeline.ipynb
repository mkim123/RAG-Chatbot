{
 "cells": [
  {
   "cell_type": "markdown",
   "id": "c77634d2",
   "metadata": {},
   "source": [
    "## Environment"
   ]
  },
  {
   "cell_type": "code",
   "execution_count": 31,
   "id": "6b08291f",
   "metadata": {},
   "outputs": [
    {
     "name": "stdout",
     "output_type": "stream",
     "text": [
      "Requirement already satisfied: python-dotenv in c:\\users\\i767989\\appdata\\roaming\\python\\python311\\site-packages (1.1.1)\n",
      "Note: you may need to restart the kernel to use updated packages.\n"
     ]
    },
    {
     "name": "stderr",
     "output_type": "stream",
     "text": [
      "\n",
      "[notice] A new release of pip available: 22.3.1 -> 25.2\n",
      "[notice] To update, run: python.exe -m pip install --upgrade pip\n"
     ]
    },
    {
     "name": "stdout",
     "output_type": "stream",
     "text": [
      "Requirement already satisfied: python-dotenv in c:\\users\\i767989\\appdata\\roaming\\python\\python311\\site-packages (1.1.1)\n",
      "Note: you may need to restart the kernel to use updated packages.\n"
     ]
    },
    {
     "name": "stderr",
     "output_type": "stream",
     "text": [
      "\n",
      "[notice] A new release of pip available: 22.3.1 -> 25.2\n",
      "[notice] To update, run: python.exe -m pip install --upgrade pip\n"
     ]
    },
    {
     "name": "stdout",
     "output_type": "stream",
     "text": [
      "Note: you may need to restart the kernel to use updated packages.\n"
     ]
    },
    {
     "name": "stderr",
     "output_type": "stream",
     "text": [
      "\n",
      "[notice] A new release of pip available: 22.3.1 -> 25.2\n",
      "[notice] To update, run: python.exe -m pip install --upgrade pip\n"
     ]
    }
   ],
   "source": [
    "%pip install python-dotenv\n",
    "#!pip install -U langchain langchain-openai\n",
    "%pip install --quiet --upgrade langchain-text-splitters langchain-community langgraph"
   ]
  },
  {
   "cell_type": "markdown",
   "id": "6d48d1a2",
   "metadata": {},
   "source": [
    "LangSmith setup"
   ]
  },
  {
   "cell_type": "code",
   "execution_count": 33,
   "id": "9a9e929a",
   "metadata": {},
   "outputs": [],
   "source": [
    "# LangSmith setup -- allows us to track what is going on inside our chain or agent\n",
    "import os\n",
    "from dotenv import load_dotenv\n",
    "\n",
    "load_dotenv(\".env\")\n",
    "\n",
    "os.environ[\"LANGSMITH_TRACING\"] = \"true\"\n",
    "os.environ[\"LANGSMITH_API_KEY\"] = os.getenv(\"LANGSMITH_API_KEY\")"
   ]
  },
  {
   "cell_type": "markdown",
   "id": "816b1a20",
   "metadata": {},
   "source": [
    "MistralAI LLM and embeddings model setup"
   ]
  },
  {
   "cell_type": "code",
   "execution_count": 34,
   "id": "326f4947",
   "metadata": {},
   "outputs": [
    {
     "name": "stdout",
     "output_type": "stream",
     "text": [
      "Note: you may need to restart the kernel to use updated packages.\n"
     ]
    },
    {
     "name": "stderr",
     "output_type": "stream",
     "text": [
      "\n",
      "[notice] A new release of pip available: 22.3.1 -> 25.2\n",
      "[notice] To update, run: python.exe -m pip install --upgrade pip\n"
     ]
    }
   ],
   "source": [
    "pip install -qU \"langchain[mistralai]\""
   ]
  },
  {
   "cell_type": "code",
   "execution_count": 82,
   "id": "4fa74111",
   "metadata": {},
   "outputs": [
    {
     "name": "stderr",
     "output_type": "stream",
     "text": [
      "c:\\Users\\I767989\\AppData\\Local\\Programs\\Python\\Python311\\Lib\\site-packages\\pydantic\\main.py:253: UserWarning: Could not download mistral tokenizer from Huggingface for calculating batch sizes. Set a Huggingface token via the HF_TOKEN environment variable to download the real tokenizer. Falling back to a dummy tokenizer that uses `len()`.\n",
      "  validated_self = self.__pydantic_validator__.validate_python(data, self_instance=self)\n"
     ]
    }
   ],
   "source": [
    "load_dotenv(\".env\")\n",
    "os.environ[\"MISTRAL_API_KEY\"] = os.getenv(\"MISTRAL_API_KEY\")\n",
    "\n",
    "from langchain.chat_models import init_chat_model\n",
    "\n",
    "llm = init_chat_model(\"mistral-large-latest\", model_provider=\"mistralai\")\n",
    "\n",
    "from langchain_mistralai import MistralAIEmbeddings\n",
    "\n",
    "embeddings = MistralAIEmbeddings(model=\"mistral-embed\")"
   ]
  },
  {
   "cell_type": "markdown",
   "id": "36ce4de1",
   "metadata": {},
   "source": [
    "Vector store setup"
   ]
  },
  {
   "cell_type": "code",
   "execution_count": 37,
   "id": "ccfd55f6",
   "metadata": {},
   "outputs": [
    {
     "name": "stdout",
     "output_type": "stream",
     "text": [
      "Note: you may need to restart the kernel to use updated packages.\n"
     ]
    },
    {
     "name": "stderr",
     "output_type": "stream",
     "text": [
      "\n",
      "[notice] A new release of pip available: 22.3.1 -> 25.2\n",
      "[notice] To update, run: python.exe -m pip install --upgrade pip\n"
     ]
    }
   ],
   "source": [
    "pip install -qU langchain-core"
   ]
  },
  {
   "cell_type": "code",
   "execution_count": 83,
   "id": "017e0faf",
   "metadata": {},
   "outputs": [],
   "source": [
    "from langchain_core.vectorstores import InMemoryVectorStore\n",
    "\n",
    "vector_store = InMemoryVectorStore(embeddings)"
   ]
  },
  {
   "cell_type": "markdown",
   "id": "6e1cf644",
   "metadata": {},
   "source": [
    "## Loading data"
   ]
  },
  {
   "cell_type": "code",
   "execution_count": 84,
   "id": "71be5f8a",
   "metadata": {},
   "outputs": [],
   "source": [
    "import json\n",
    "from langchain_community.document_loaders import JSONLoader\n",
    "from langchain_text_splitters import RecursiveCharacterTextSplitter\n",
    "from langchain_core.documents import Document\n",
    "\n",
    "# Step 1: Load the JSON file\n",
    "file_path = \"singapore_hdb_data.json\"\n",
    "\n",
    "with open(file_path, \"r\", encoding=\"utf-8\") as f:\n",
    "    data = json.load(f)\n",
    "\n",
    "# Step 2: Convert JSON into Documents for Retrieval\n",
    "documents = []\n",
    "for entry in data:\n",
    "    area = entry[\"area\"]\n",
    "    has_hdb = entry[\"has_hdb\"]\n",
    "    hdb_price_range = entry[\"hdb_price_range\"]\n",
    "    pros = entry[\"pros\"]\n",
    "    cons = entry[\"cons\"]\n",
    "\n",
    "    # Create a retrievable document\n",
    "    doc = Document(\n",
    "        page_content=f\"Area: {area}\\nHDB Available: {has_hdb}\\nHDB Price range: {hdb_price_range}\\nPros: {pros}\\nCons: {cons}\",\n",
    "        metadata={\"Area\": area} # identifier for information\n",
    "    )\n",
    "    documents.append(doc)\n",
    "\n",
    "# Step 3: Split text into smaller chunks for better retrieval\n",
    "text_splitter = RecursiveCharacterTextSplitter(chunk_size=300, chunk_overlap=50)\n",
    "json_splits = text_splitter.split_documents(documents)"
   ]
  },
  {
   "cell_type": "code",
   "execution_count": 87,
   "id": "5bb4c42c",
   "metadata": {},
   "outputs": [],
   "source": [
    "_ = vector_store.add_documents(documents=json_splits)"
   ]
  },
  {
   "cell_type": "code",
   "execution_count": 91,
   "id": "3b4baa89",
   "metadata": {},
   "outputs": [
    {
     "data": {
      "text/plain": [
       "[Document(id='efc1fc14-59d7-4e17-a7fb-627b0770c0d0', metadata={'Area': 'Yishun'}, page_content=\"Area: Yishun\\nHDB Available: True\\nHDB Price range: SGD 420K - 780K\\nPros: ['Affordable compared to other areas', 'Plenty of neighbourhood amenities', 'Close to nature parks like Lower Seletar Reservoir']\\nCons: ['Far from city centre', 'Reputation for being less desirable in the past']\"),\n",
       " Document(id='3e0b1681-233b-42fe-8f94-5a2ac756cbb5', metadata={'Area': 'Woodlands'}, page_content=\"Area: Woodlands\\nHDB Available: True\\nHDB Price range: SGD 450K - 800K\\nPros: ['Affordable HDB options', 'Family-friendly environment', 'Close to Malaysia via Causeway']\\nCons: ['Far from city centre', 'Traffic jams near Causeway']\"),\n",
       " Document(id='29f3fc8f-e5f2-45ad-9069-f1c0dd4c4dde', metadata={'Area': 'Punggol'}, page_content=\"Area: Punggol\\nHDB Available: True\\nHDB Price range: SGD 480K - 850K\\nPros: ['Modern new town', 'Scenic waterfront lifestyle', 'Family-oriented with parks and schools']\\nCons: ['Still developing, fewer established amenities', 'Longer MRT travel time to CBD']\"),\n",
       " Document(id='7bea8846-2aa8-4e5b-8f79-816fe9cf43e5', metadata={'Area': 'Jurong'}, page_content=\"Area: Jurong\\nHDB Available: True\\nHDB Price range: SGD 460K - 850K\\nPros: ['Upcoming Jurong Lake District development', 'Plenty of malls like JEM, Westgate, IMM', 'Strong public transport links']\\nCons: ['Far from city centre', 'Industrial areas nearby may cause noise']\")]"
      ]
     },
     "execution_count": 91,
     "metadata": {},
     "output_type": "execute_result"
    }
   ],
   "source": [
    "vector_store.search('Yishun', 'similarity')"
   ]
  },
  {
   "cell_type": "markdown",
   "id": "a86265d2",
   "metadata": {},
   "source": [
    "## LangGraph implementation"
   ]
  },
  {
   "cell_type": "code",
   "execution_count": 108,
   "id": "f82ea06b",
   "metadata": {},
   "outputs": [],
   "source": [
    "# MessagesState -- keeps track of messages in the convo, eg: { messages: [\n",
    "# HumanMessage (user input), AIMessage (Vector store query with tool calls), ToolMessage (Retrived docs), AIMessage (Final Answer)\n",
    "#]}\n",
    "\n",
    "from langgraph.graph import MessagesState, StateGraph\n",
    "\n",
    "graph_builder = StateGraph(MessagesState)"
   ]
  },
  {
   "cell_type": "code",
   "execution_count": 110,
   "id": "c37044ad",
   "metadata": {},
   "outputs": [],
   "source": [
    "# retrieve from documents stored in vector store\n",
    "from langchain_core.tools import tool\n",
    "\n",
    "@tool(response_format=\"content_and_artifact\")\n",
    "def retrieve(query: str):\n",
    "    \"\"\"Retrieve information related to a query.\"\"\"\n",
    "    retrieved_docs = vector_store.similarity_search(query, k=2)\n",
    "    serialized = \"\\n\\n\".join(\n",
    "        (f\"Source: {doc.metadata}\\nContent: {doc.page_content}\")\n",
    "        for doc in retrieved_docs\n",
    "    )\n",
    "    # print(\"\\n===== DEBUG: Retrieved Data =====\")\n",
    "    # print(retrieved_docs)\n",
    "    # print(\"\\n=====\")\n",
    "\n",
    "    return serialized, retrieved_docs"
   ]
  },
  {
   "cell_type": "code",
   "execution_count": 111,
   "id": "8e16edcf",
   "metadata": {},
   "outputs": [],
   "source": [
    "from langchain_core.messages import SystemMessage\n",
    "from langgraph.prebuilt import ToolNode\n",
    "\n",
    "\n",
    "# Step 1: Generate an AIMessage that may include a tool-call to be sent - if no tool call, respond directly\n",
    "def query_or_respond(state: MessagesState):\n",
    "    \"\"\"Generate tool call for retrieval or respond.\"\"\"\n",
    "    llm_with_tools = llm.bind_tools([retrieve])\n",
    "    response = llm_with_tools.invoke(state[\"messages\"])\n",
    "    # MessagesState appends messages to state instead of overwriting\n",
    "    return {\"messages\": [response]}\n",
    "\n",
    "\n",
    "# Step 2: Execute the retrieval.\n",
    "tools = ToolNode([retrieve])\n",
    "\n",
    "\n",
    "# Step 3: Generate a response using the retrieved content.\n",
    "def generate(state: MessagesState):\n",
    "    \"\"\"Generate answer.\"\"\"\n",
    "    # Get generated ToolMessages\n",
    "    recent_tool_messages = []\n",
    "    for message in reversed(state[\"messages\"]):\n",
    "        if message.type == \"tool\":\n",
    "            recent_tool_messages.append(message)\n",
    "        else:\n",
    "            break\n",
    "    tool_messages = recent_tool_messages[::-1]\n",
    "\n",
    "    # Format into prompt\n",
    "    docs_content = \"\\n\\n\".join(doc.content for doc in tool_messages)\n",
    "    system_message_content = (\n",
    "        \"You are an assistant for question-answering tasks on the housing market in Singapore.\"\n",
    "        \"Use the following pieces of retrieved context to answer \"\n",
    "        \"the question. If you don't know the answer, say that you \"\n",
    "        \"don't know. Use three sentences maximum and keep the \"\n",
    "        \"answer concise.\"\n",
    "        \"\\n\\n\"\n",
    "        f\"{docs_content}\"\n",
    "    )\n",
    "    conversation_messages = [\n",
    "        message\n",
    "        for message in state[\"messages\"]\n",
    "        if message.type in (\"human\", \"system\")\n",
    "        or (message.type == \"ai\" and not message.tool_calls)\n",
    "    ]\n",
    "    # passes previous human/ai or system messages as context for next response\n",
    "    prompt = [SystemMessage(system_message_content)] + conversation_messages\n",
    "\n",
    "    # Run\n",
    "    response = llm.invoke(prompt)\n",
    "    return {\"messages\": [response]}"
   ]
  },
  {
   "cell_type": "code",
   "execution_count": 112,
   "id": "abbc3839",
   "metadata": {},
   "outputs": [],
   "source": [
    "# Build the graph\n",
    "\n",
    "from langgraph.graph import END\n",
    "from langgraph.prebuilt import ToolNode, tools_condition\n",
    "\n",
    "graph_builder.add_node(query_or_respond)\n",
    "graph_builder.add_node(tools)\n",
    "graph_builder.add_node(generate)\n",
    "\n",
    "graph_builder.set_entry_point(\"query_or_respond\")\n",
    "graph_builder.add_conditional_edges(\n",
    "    \"query_or_respond\",\n",
    "    tools_condition,\n",
    "    {END: END, \"tools\": \"tools\"},\n",
    ")\n",
    "graph_builder.add_edge(\"tools\", \"generate\")\n",
    "graph_builder.add_edge(\"generate\", END)\n",
    "\n",
    "graph = graph_builder.compile()"
   ]
  },
  {
   "cell_type": "markdown",
   "id": "964a52b7",
   "metadata": {},
   "source": [
    "## Test RAG pipeline"
   ]
  },
  {
   "cell_type": "code",
   "execution_count": 106,
   "id": "4e4900ed",
   "metadata": {},
   "outputs": [
    {
     "name": "stdout",
     "output_type": "stream",
     "text": [
      "================================\u001b[1m Human Message \u001b[0m=================================\n",
      "\n",
      "Hello\n",
      "==================================\u001b[1m Ai Message \u001b[0m==================================\n",
      "\n",
      "Hi there! How can I assist you today? 😊\n"
     ]
    }
   ],
   "source": [
    "# No tool call required\n",
    "input_message = \"Hello\"\n",
    "\n",
    "for step in graph.stream(\n",
    "    {\"messages\": [{\"role\": \"user\", \"content\": input_message}]},\n",
    "    stream_mode=\"values\",\n",
    "):\n",
    "    step[\"messages\"][-1].pretty_print()"
   ]
  },
  {
   "cell_type": "code",
   "execution_count": 113,
   "id": "10dc7e9b",
   "metadata": {},
   "outputs": [
    {
     "name": "stdout",
     "output_type": "stream",
     "text": [
      "================================\u001b[1m Human Message \u001b[0m=================================\n",
      "\n",
      "what is there to do in Yishun?\n",
      "==================================\u001b[1m Ai Message \u001b[0m==================================\n",
      "Tool Calls:\n",
      "  retrieve (kASVXfzep)\n",
      " Call ID: kASVXfzep\n",
      "  Args:\n",
      "    query: things to do in Yishun, Singapore\n",
      "=================================\u001b[1m Tool Message \u001b[0m=================================\n",
      "Name: retrieve\n",
      "\n",
      "Source: {'Area': 'Yishun'}\n",
      "Content: Area: Yishun\n",
      "HDB Available: True\n",
      "HDB Price range: SGD 420K - 780K\n",
      "Pros: ['Affordable compared to other areas', 'Plenty of neighbourhood amenities', 'Close to nature parks like Lower Seletar Reservoir']\n",
      "Cons: ['Far from city centre', 'Reputation for being less desirable in the past']\n",
      "\n",
      "Source: {'Area': 'Woodlands'}\n",
      "Content: Area: Woodlands\n",
      "HDB Available: True\n",
      "HDB Price range: SGD 450K - 800K\n",
      "Pros: ['Affordable HDB options', 'Family-friendly environment', 'Close to Malaysia via Causeway']\n",
      "Cons: ['Far from city centre', 'Traffic jams near Causeway']\n",
      "==================================\u001b[1m Ai Message \u001b[0m==================================\n",
      "\n",
      "In Yishun, you can enjoy **plenty of neighbourhood amenities** like shopping malls (Northpoint City), hawker centres, and sports facilities. It’s also **close to nature parks**, including Lower Seletar Reservoir, for outdoor activities. However, it’s known for being **far from the city centre**.\n"
     ]
    }
   ],
   "source": [
    "# Tool call required\n",
    "input_message = \"what is there to do in Yishun?\"\n",
    "\n",
    "for step in graph.stream(\n",
    "    {\"messages\": [{\"role\": \"user\", \"content\": input_message}]},\n",
    "    stream_mode=\"values\",\n",
    "):\n",
    "    step[\"messages\"][-1].pretty_print()"
   ]
  },
  {
   "cell_type": "markdown",
   "id": "b71f8946",
   "metadata": {},
   "source": [
    "## Test Ongoing Conversation"
   ]
  },
  {
   "cell_type": "code",
   "execution_count": 114,
   "id": "80173566",
   "metadata": {},
   "outputs": [
    {
     "name": "stdout",
     "output_type": "stream",
     "text": [
      "=== CONVERSATION TEST ===\n",
      "\n",
      "🗣️ User: Tell me about Yishun\n",
      "🤖 Assistant: Yishun offers **affordable HDB flats (SGD 420K–780K)** with **plenty of amenities** and **proximity to nature** (e.g., Lower Seletar Reservoir). However, it’s **far from the city centre** and has a past reputation for being less desirable. It remains a practical choice for budget-conscious buyers seeking a well-equipped neighbourhood.\n",
      "\n",
      "==================================================\n",
      "\n",
      "🗣️ User: What about the housing prices there?\n",
      "🤖 Assistant: In **Yishun**, the **HDB (public housing) flats** are priced between **SGD 420,000 and SGD 780,000**, depending on factors like:\n",
      "\n",
      "- **Flat type** (e.g., 3-room, 4-room, 5-room, or executive flats).\n",
      "- **Location within Yishun** (proximity to amenities, MRT stations, or nature spots).\n",
      "- **Age of the flat** (newer developments tend to be pricier).\n",
      "- **Renovation and condition** of the unit.\n",
      "\n",
      "Yishun is considered **relatively affordable** compared to other areas in Singapore, especially those closer to the city centre. Would you like details on specific types of flats or trends in pricing?\n",
      "\n",
      "==================================================\n",
      "\n",
      "🗣️ User: Are there any downsides to living there?\n",
      "🤖 Assistant: Yes, while Yishun has its advantages, there are some **downsides to living there**:\n",
      "\n",
      "1. **Distance from the City Centre**:\n",
      "   Yishun is located in the **northern part of Singapore**, which means it is **farther from the central business district (CBD)**. Commuting to the city for work or leisure can take longer, especially during peak hours.\n",
      "\n",
      "2. **Reputation**:\n",
      "   Yishun has had a **less desirable reputation in the past**, often being the subject of jokes or memes in Singaporean culture. While this perception is gradually changing, it may still be a consideration for some.\n",
      "\n",
      "3. **Limited Nightlife and Entertainment**:\n",
      "   Compared to areas like Orchard, Clarke Quay, or Bugis, Yishun has **fewer entertainment and nightlife options**. Residents often travel to other parts of Singapore for dining, shopping, or recreational activities.\n",
      "\n",
      "4. **Perception of Safety**:\n",
      "   While Yishun is generally safe like the rest of Singapore, it has been **associated with occasional crime-related incidents** in the past, which may influence some people's perceptions.\n",
      "\n",
      "5. **Amenities Concentration**:\n",
      "   Although Yishun has plenty of neighbourhood amenities, some residents might find the **options limited** compared to more central or upscale areas.\n",
      "\n",
      "Would you like more details on any of these points?\n",
      "\n",
      "==================================================\n",
      "\n",
      "📈 Total messages in conversation: 8\n",
      "💬 Message types: ['human', 'ai', 'tool', 'ai', 'human', 'ai', 'human', 'ai']\n"
     ]
    }
   ],
   "source": [
    "# Test multi-turn conversation with memory\n",
    "from langchain_core.messages import HumanMessage\n",
    "\n",
    "# Start with an empty conversation state\n",
    "conversation_state = {\"messages\": []}\n",
    "\n",
    "def continue_conversation(user_input, state):\n",
    "    \"\"\"Add user message and get response, maintaining conversation history\"\"\"\n",
    "    # Add user message to existing conversation\n",
    "    new_message = HumanMessage(content=user_input)\n",
    "    state[\"messages\"].append(new_message)\n",
    "    \n",
    "    # Get response from graph\n",
    "    result = graph.invoke(state)\n",
    "    \n",
    "    # Return updated state with full conversation history\n",
    "    return result\n",
    "\n",
    "print(\"=== CONVERSATION TEST ===\\n\")\n",
    "\n",
    "# Turn 1: Ask about Yishun\n",
    "print(\"🗣️ User: Tell me about Yishun\")\n",
    "conversation_state = continue_conversation(\"Tell me about Yishun\", conversation_state)\n",
    "print(\"🤖 Assistant:\", conversation_state[\"messages\"][-1].content)\n",
    "print(\"\\n\" + \"=\"*50 + \"\\n\")\n",
    "\n",
    "# Turn 2: Follow-up question (should remember context)\n",
    "print(\"🗣️ User: What about the housing prices there?\")\n",
    "conversation_state = continue_conversation(\"What about the housing prices there?\", conversation_state)\n",
    "print(\"🤖 Assistant:\", conversation_state[\"messages\"][-1].content)\n",
    "print(\"\\n\" + \"=\"*50 + \"\\n\")\n",
    "\n",
    "# Turn 3: Another follow-up\n",
    "print(\"🗣️ User: Are there any downsides to living there?\")\n",
    "conversation_state = continue_conversation(\"Are there any downsides to living there?\", conversation_state)\n",
    "print(\"🤖 Assistant:\", conversation_state[\"messages\"][-1].content)\n",
    "print(\"\\n\" + \"=\"*50 + \"\\n\")\n",
    "\n",
    "# Show conversation history length\n",
    "print(f\"📈 Total messages in conversation: {len(conversation_state['messages'])}\")\n",
    "print(\"💬 Message types:\", [msg.type for msg in conversation_state['messages']])"
   ]
  },
  {
   "cell_type": "code",
   "execution_count": null,
   "id": "306fb9a2",
   "metadata": {},
   "outputs": [],
   "source": [
    "# Interactive conversation simulator\n",
    "def chat_session():\n",
    "    \"\"\"Simulate an interactive chat session\"\"\"\n",
    "    conversation = {\"messages\": []}\n",
    "    \n",
    "    print(\"🤖 RAG Chatbot: Hello! Ask me about Singapore housing areas. Type 'quit' to exit.\\n\")\n",
    "    \n",
    "    while True:\n",
    "        user_input = input(\"🗣️ You: \")\n",
    "        \n",
    "        if user_input.lower() in ['quit', 'exit', 'bye']:\n",
    "            print(\"🤖 RAG Chatbot: Goodbye!\")\n",
    "            break\n",
    "            \n",
    "        # Add user message\n",
    "        conversation[\"messages\"].append(HumanMessage(content=user_input))\n",
    "        \n",
    "        # Get bot response\n",
    "        try:\n",
    "            result = graph.invoke(conversation)\n",
    "            conversation = result\n",
    "            \n",
    "            # Print bot response\n",
    "            bot_response = conversation[\"messages\"][-1].content\n",
    "            print(f\"🤖 RAG Chatbot: {bot_response}\\n\")\n",
    "            \n",
    "        except Exception as e:\n",
    "            print(f\"❌ Error: {e}\\n\")\n",
    "    \n",
    "    print(f\"\\n📊 Conversation Summary:\")\n",
    "    print(f\"Total messages: {len(conversation['messages'])}\")\n",
    "    print(f\"Message types: {[msg.type for msg in conversation['messages']]}\")\n",
    "\n",
    "# Uncomment the line below to start interactive chat\n",
    "chat_session()"
   ]
  }
 ],
 "metadata": {
  "kernelspec": {
   "display_name": "Python 3",
   "language": "python",
   "name": "python3"
  },
  "language_info": {
   "codemirror_mode": {
    "name": "ipython",
    "version": 3
   },
   "file_extension": ".py",
   "mimetype": "text/x-python",
   "name": "python",
   "nbconvert_exporter": "python",
   "pygments_lexer": "ipython3",
   "version": "3.11.3"
  }
 },
 "nbformat": 4,
 "nbformat_minor": 5
}
